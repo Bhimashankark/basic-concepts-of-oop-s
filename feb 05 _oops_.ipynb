{
 "cells": [
  {
   "cell_type": "markdown",
   "id": "b4723904-a10d-49ec-b67c-db0ebcfb1e22",
   "metadata": {},
   "source": [
    "TOPIC : OOP's"
   ]
  },
  {
   "cell_type": "markdown",
   "id": "2c098c2f-6cbb-4573-b006-01c097ea525c",
   "metadata": {},
   "source": [
    "Q1. Explain Class and Object with respect to Object-Oriented Programming. Give a suitable example."
   ]
  },
  {
   "cell_type": "markdown",
   "id": "8867ea72-5f63-48dc-8997-9954abade800",
   "metadata": {},
   "source": [
    "answer : In object-oriented programming, a class is a blueprint that describes the properties and behaviors that objects of that class should possess. \n",
    "An object is an instance of a class, created using the blueprint provided by the class. In simpler terms, a class is a general description of an object, while an object is a specific instance of that class."
   ]
  },
  {
   "cell_type": "code",
   "execution_count": 9,
   "id": "fc82fa71-c486-4273-8da7-9695c9323296",
   "metadata": {},
   "outputs": [],
   "source": [
    "##example:\n",
    "    \n",
    "class theatre:\n",
    "    \n",
    "    def __init__(self, movie,time,price):\n",
    "        self.movie=movie\n",
    "        self.time=time\n",
    "        self.price=price\n",
    "        \n",
    "    def return_details(self):\n",
    "        return self.movie, self.time, self.price"
   ]
  },
  {
   "cell_type": "code",
   "execution_count": 12,
   "id": "4b013b91-d765-4c86-abe5-a31c31cf4179",
   "metadata": {},
   "outputs": [],
   "source": [
    "apsara = theatre('patana','6:00', 150)"
   ]
  },
  {
   "cell_type": "code",
   "execution_count": 4,
   "id": "d982d247-d2ce-4f13-8aae-2736f9bbcc9f",
   "metadata": {},
   "outputs": [
    {
     "data": {
      "text/plain": [
       "'patana'"
      ]
     },
     "execution_count": 4,
     "metadata": {},
     "output_type": "execute_result"
    }
   ],
   "source": [
    "apsara.movie"
   ]
  },
  {
   "cell_type": "code",
   "execution_count": 16,
   "id": "e8c639e7-3d48-4823-a5de-adc234779e84",
   "metadata": {},
   "outputs": [
    {
     "data": {
      "text/plain": [
       "'6:00'"
      ]
     },
     "execution_count": 16,
     "metadata": {},
     "output_type": "execute_result"
    }
   ],
   "source": [
    "apsara.time"
   ]
  },
  {
   "cell_type": "code",
   "execution_count": 17,
   "id": "da8c0f77-3188-48a1-b9f5-5f9a5f1e160d",
   "metadata": {},
   "outputs": [
    {
     "data": {
      "text/plain": [
       "150"
      ]
     },
     "execution_count": 17,
     "metadata": {},
     "output_type": "execute_result"
    }
   ],
   "source": [
    "apsara.price"
   ]
  },
  {
   "cell_type": "code",
   "execution_count": 14,
   "id": "93d6b3ed-8f08-4b44-8d9b-977560041941",
   "metadata": {},
   "outputs": [
    {
     "data": {
      "text/plain": [
       "('patana', '6:00', 150)"
      ]
     },
     "execution_count": 14,
     "metadata": {},
     "output_type": "execute_result"
    }
   ],
   "source": [
    "apsara.return_details()"
   ]
  },
  {
   "cell_type": "markdown",
   "id": "76c4d34c-a561-472d-91c0-89ad1dafb282",
   "metadata": {},
   "source": [
    "Q2. Name the four pillars of OOPs."
   ]
  },
  {
   "cell_type": "markdown",
   "id": "aac1d6fe-a2db-44d6-99b7-99a2a7e2350d",
   "metadata": {},
   "source": [
    "answer: \n",
    "\n",
    "polymorphism,inheritance,abstraction,encapsulation are the four pillars of oops\n",
    "\n",
    "1)Encapsulation: It refers to the mechanism of binding the data and the methods that act on that data, into a single entity or unit called a class. In simple words, encapsulation is the process of hiding the internal details of an object and making its properties and methods available only through a well-defined interface.\n",
    "\n",
    "2)Abstraction: Abstraction is the process of hiding complex implementation details and exposing only the essential features of an object to the outside world. It helps to manage complexity, increase efficiency, and maintainability of the code.\n",
    "\n",
    "3)Inheritance: Inheritance is a mechanism that allows a new class to be based on an existing class, inheriting its properties and methods. The existing class is called the superclass or parent class, and the new class is called the subclass or child class. \n",
    "\n",
    "4)Polymorphism: Polymorphism is the ability of an object to take on many forms or behave differently in different contexts. It is achieved through method overloading and method overriding.\n"
   ]
  },
  {
   "cell_type": "markdown",
   "id": "b88b3c77-e386-41a1-a02f-9faa55b732e9",
   "metadata": {},
   "source": [
    "Q3. Explain why the __init__() function is used. Give a suitable example."
   ]
  },
  {
   "cell_type": "markdown",
   "id": "20983653-5cfe-4b0c-9621-3139944c45ba",
   "metadata": {},
   "source": [
    "answer : The __init__() method is called a constructor because it constructs the object and sets its initial state. It takes the self parameter as its first argument, which refers to the instance of the class that is being created, and any other arguments that are required to initialize the object's attributes."
   ]
  },
  {
   "cell_type": "code",
   "execution_count": null,
   "id": "21e4ad43-7250-4499-aa0c-b8103a71cf13",
   "metadata": {},
   "outputs": [],
   "source": [
    "## Here's an example to illustrate the usage of the __init__() method:"
   ]
  },
  {
   "cell_type": "code",
   "execution_count": 25,
   "id": "5e05cf97-d23e-401e-b0b7-4b8bca301ff0",
   "metadata": {},
   "outputs": [],
   "source": [
    "class car:\n",
    "    \n",
    "    def __init__(self, company, model ,colour):\n",
    "        \n",
    "        self.company=company\n",
    "        self.model=model\n",
    "        self.colour=colour\n",
    "        \n",
    "    def return_details_of_car(self):\n",
    "        return self.company, self.model, self.colour"
   ]
  },
  {
   "cell_type": "code",
   "execution_count": 29,
   "id": "363d67b2-812d-41bb-916b-0a56d478c46a",
   "metadata": {},
   "outputs": [],
   "source": [
    "car1 = car('toyota','innova','colour')"
   ]
  },
  {
   "cell_type": "code",
   "execution_count": 30,
   "id": "ee7c9df5-bdfb-45df-a9e4-7b1e7b7956b2",
   "metadata": {},
   "outputs": [
    {
     "data": {
      "text/plain": [
       "'toyota'"
      ]
     },
     "execution_count": 30,
     "metadata": {},
     "output_type": "execute_result"
    }
   ],
   "source": [
    "car1.company"
   ]
  },
  {
   "cell_type": "code",
   "execution_count": 31,
   "id": "11d89d93-b333-4522-9ef4-3328501212fa",
   "metadata": {},
   "outputs": [
    {
     "data": {
      "text/plain": [
       "('toyota', 'innova', 'colour')"
      ]
     },
     "execution_count": 31,
     "metadata": {},
     "output_type": "execute_result"
    }
   ],
   "source": [
    "car1.return_details_of_car()"
   ]
  },
  {
   "cell_type": "markdown",
   "id": "501142b9-ff46-4ee2-a7d0-77dc161ff342",
   "metadata": {},
   "source": [
    "Q4. Why self is used in OOPs?"
   ]
  },
  {
   "cell_type": "markdown",
   "id": "6d4cb547-bc12-4c1f-9022-0597afea0c73",
   "metadata": {},
   "source": [
    "answer : The self variable is used to represent the instance of the class which is often used in object-oriented programming. It works as a reference to the object. Python uses the self parameter to refer to instance attributes and methods of the class."
   ]
  },
  {
   "cell_type": "markdown",
   "id": "31eab668-6422-452c-a5a4-223721fe1a2e",
   "metadata": {},
   "source": [
    "Q5. What is inheritance? Give an example for each type of inheritance."
   ]
  },
  {
   "cell_type": "markdown",
   "id": "25e0a956-b2f5-4cd0-a38e-5682bf6cac02",
   "metadata": {},
   "source": [
    "answer : Inheritance is a mechanism of acquiring the features and behaviors of a class by another class. The class whose members are inherited is called the base class, and the class that inherits those members is called the derived class."
   ]
  },
  {
   "cell_type": "markdown",
   "id": "bd92df1b-0c04-4db4-b881-36bfa802acc1",
   "metadata": {},
   "source": [
    "examples for types of inheritance "
   ]
  },
  {
   "cell_type": "code",
   "execution_count": 33,
   "id": "d527d050-05ab-4b4a-9c50-727d20ccad11",
   "metadata": {},
   "outputs": [],
   "source": [
    "##1)single inheritace\n",
    "\n",
    "class fruits:\n",
    "    \n",
    "    def name(self):\n",
    "        print(\"name of fruit is apple\")\n",
    "        \n",
    "class red(fruits):\n",
    "    def colour(self):\n",
    "        print(\"colour of fruit is red\")\n",
    "        "
   ]
  },
  {
   "cell_type": "code",
   "execution_count": 37,
   "id": "bbceeaa2-d6af-4df7-abdb-d7d36c79230c",
   "metadata": {},
   "outputs": [],
   "source": [
    "a= red()"
   ]
  },
  {
   "cell_type": "code",
   "execution_count": 39,
   "id": "763cd0e7-9765-46c1-b8e7-986e3f2cec78",
   "metadata": {},
   "outputs": [
    {
     "name": "stdout",
     "output_type": "stream",
     "text": [
      "name of fruit is apple\n"
     ]
    }
   ],
   "source": [
    "a.name()"
   ]
  },
  {
   "cell_type": "code",
   "execution_count": 41,
   "id": "55bce299-97e1-4dad-be57-234b1a55c399",
   "metadata": {},
   "outputs": [
    {
     "name": "stdout",
     "output_type": "stream",
     "text": [
      "colour of fruit is red\n"
     ]
    }
   ],
   "source": [
    "a.colour()"
   ]
  },
  {
   "cell_type": "code",
   "execution_count": null,
   "id": "8b79bf64-bc26-4d1c-bf74-22c3cbcdfab0",
   "metadata": {},
   "outputs": [],
   "source": [
    "## 2)Multiple Inheritance:"
   ]
  },
  {
   "cell_type": "code",
   "execution_count": 42,
   "id": "be7f6282-65a5-4ee9-b300-809dee1615ea",
   "metadata": {},
   "outputs": [],
   "source": [
    "class chef:\n",
    "    \n",
    "    \n",
    "    def make_chicken(self):\n",
    "        print(\"chief makes chicken\")\n",
    "    def make_jamun(self):\n",
    "        print(\"chief prepares jamun\")\n",
    "    \n",
    "class indian_chef:\n",
    "    def make_thali(self):\n",
    "        print(\"indian chief preparess thali\")\n",
    "     \n",
    "    \n",
    "class master_chef(chef,indian_chef):\n",
    "    def make_pizza(self):\n",
    "        print(\"preparing pizza\")\n",
    "    \n",
    "\n",
    "        "
   ]
  },
  {
   "cell_type": "code",
   "execution_count": 44,
   "id": "de751d63-ff42-4d13-8f7e-e045eb048b5a",
   "metadata": {},
   "outputs": [],
   "source": [
    "restuarant = master_chef()"
   ]
  },
  {
   "cell_type": "code",
   "execution_count": 46,
   "id": "de6abcff-134d-42ef-a9e2-44e9db32a6f2",
   "metadata": {},
   "outputs": [
    {
     "name": "stdout",
     "output_type": "stream",
     "text": [
      "preparing pizza\n"
     ]
    }
   ],
   "source": [
    "restuarant.make_pizza()"
   ]
  },
  {
   "cell_type": "code",
   "execution_count": 47,
   "id": "a020cff0-8956-4c86-b437-4d070d29f2e9",
   "metadata": {},
   "outputs": [
    {
     "name": "stdout",
     "output_type": "stream",
     "text": [
      "indian chief preparess thali\n"
     ]
    }
   ],
   "source": [
    "restuarant.make_thali()"
   ]
  },
  {
   "cell_type": "code",
   "execution_count": 48,
   "id": "c20462c5-36ee-42bf-a737-1378eead2d38",
   "metadata": {},
   "outputs": [
    {
     "name": "stdout",
     "output_type": "stream",
     "text": [
      "chief prepares jamun\n"
     ]
    }
   ],
   "source": [
    "restuarant.make_jamun()"
   ]
  },
  {
   "cell_type": "code",
   "execution_count": 49,
   "id": "c708699f-bd84-4bd6-b9fd-e484f74ca34d",
   "metadata": {},
   "outputs": [
    {
     "name": "stdout",
     "output_type": "stream",
     "text": [
      "chief makes chicken\n"
     ]
    }
   ],
   "source": [
    "restuarant.make_chicken()"
   ]
  },
  {
   "cell_type": "code",
   "execution_count": null,
   "id": "f0abcc0f-6122-4093-8858-e7991e450c28",
   "metadata": {},
   "outputs": [],
   "source": [
    "## 3)Multi-level Inheritance:"
   ]
  },
  {
   "cell_type": "code",
   "execution_count": 55,
   "id": "6b662a00-eb97-4780-9b43-3ed91b2ab070",
   "metadata": {},
   "outputs": [],
   "source": [
    "class father:\n",
    "    def ram(self):\n",
    "        print(\"he is the father\")\n",
    "class son(father):\n",
    "    def raju(self):\n",
    "        print(\"he is the son\")\n",
    "        \n",
    "class grandson(son):\n",
    "    def rakesh(self):\n",
    "        print(\"he is the grand son\")\n",
    "        "
   ]
  },
  {
   "cell_type": "code",
   "execution_count": 56,
   "id": "0bcf7676-4c10-419a-9173-8b329d7956a5",
   "metadata": {},
   "outputs": [],
   "source": [
    "name = grandson()"
   ]
  },
  {
   "cell_type": "code",
   "execution_count": 52,
   "id": "c87e08cc-a0ac-4ff9-8657-c52d75d3693e",
   "metadata": {},
   "outputs": [
    {
     "name": "stdout",
     "output_type": "stream",
     "text": [
      "he is the grand son\n"
     ]
    }
   ],
   "source": [
    "name.rakesh()"
   ]
  },
  {
   "cell_type": "code",
   "execution_count": 58,
   "id": "824b8786-77e0-4eaf-9366-4854efc30f90",
   "metadata": {},
   "outputs": [
    {
     "name": "stdout",
     "output_type": "stream",
     "text": [
      "he is the son\n"
     ]
    }
   ],
   "source": [
    "name.raju()"
   ]
  },
  {
   "cell_type": "code",
   "execution_count": 60,
   "id": "b3bdae1a-6cf3-42d6-9c0c-186a30516f4f",
   "metadata": {},
   "outputs": [
    {
     "name": "stdout",
     "output_type": "stream",
     "text": [
      "he is the father\n"
     ]
    }
   ],
   "source": [
    "name.ram()"
   ]
  },
  {
   "cell_type": "code",
   "execution_count": null,
   "id": "451b315f-08c9-4980-941f-30f342aa2eee",
   "metadata": {},
   "outputs": [],
   "source": [
    "## 4)Hierarchical Inheritance:"
   ]
  },
  {
   "cell_type": "code",
   "execution_count": 61,
   "id": "481de264-bfee-4c2f-9928-7a78ab3aae36",
   "metadata": {},
   "outputs": [],
   "source": [
    "class vehicle:\n",
    "    def __init__(self, model,colour):\n",
    "        self.model=model\n",
    "        self.colour=colour\n",
    "    \n",
    "    def details_of_vehicles(self):\n",
    "        return self.model,self.colour\n",
    "    \n",
    "class car(vehicle):\n",
    "    def drive(self):\n",
    "        print(f\"i am driving a car {self.model} and with a colour{self.colour}\")\n",
    "        \n",
    "class truck(vehicle):\n",
    "    def move(self):\n",
    "        return self.model,self.colour\n",
    "        "
   ]
  },
  {
   "cell_type": "code",
   "execution_count": 64,
   "id": "0c798240-0bbf-438b-b767-29eefefbf1a2",
   "metadata": {},
   "outputs": [],
   "source": [
    "my_car=car(\"toyota\" , \"fortuner\")"
   ]
  },
  {
   "cell_type": "code",
   "execution_count": 65,
   "id": "9ed24ab4-edd2-47ca-8ef9-a406a3f9a5c4",
   "metadata": {},
   "outputs": [],
   "source": [
    "other_truck=truck(\"ashoka leyland\",\"AS\")"
   ]
  },
  {
   "cell_type": "code",
   "execution_count": 66,
   "id": "d193b9a4-3f8d-4be5-a490-7c998634ab12",
   "metadata": {},
   "outputs": [],
   "source": [
    "my_vehicle=vehicle('bus','tata')"
   ]
  },
  {
   "cell_type": "code",
   "execution_count": 68,
   "id": "e0e5b359-db5f-439f-a0c3-6beae0cce928",
   "metadata": {},
   "outputs": [
    {
     "data": {
      "text/plain": [
       "('toyota', 'fortuner')"
      ]
     },
     "execution_count": 68,
     "metadata": {},
     "output_type": "execute_result"
    }
   ],
   "source": [
    "my_car.details_of_vehicles()"
   ]
  },
  {
   "cell_type": "code",
   "execution_count": 70,
   "id": "ec9a2328-f701-49db-91bb-6a7e42973b50",
   "metadata": {},
   "outputs": [
    {
     "data": {
      "text/plain": [
       "('ashoka leyland', 'AS')"
      ]
     },
     "execution_count": 70,
     "metadata": {},
     "output_type": "execute_result"
    }
   ],
   "source": [
    "other_truck.details_of_vehicles()"
   ]
  },
  {
   "cell_type": "code",
   "execution_count": 71,
   "id": "24bc00b1-c4ac-47c8-bfb9-f1ad3826e62f",
   "metadata": {},
   "outputs": [
    {
     "data": {
      "text/plain": [
       "('bus', 'tata')"
      ]
     },
     "execution_count": 71,
     "metadata": {},
     "output_type": "execute_result"
    }
   ],
   "source": [
    "my_vehicle.details_of_vehicles()"
   ]
  },
  {
   "cell_type": "code",
   "execution_count": null,
   "id": "b55c2318-1af2-46c8-a0c1-388e39858992",
   "metadata": {},
   "outputs": [],
   "source": []
  }
 ],
 "metadata": {
  "kernelspec": {
   "display_name": "Python 3 (ipykernel)",
   "language": "python",
   "name": "python3"
  },
  "language_info": {
   "codemirror_mode": {
    "name": "ipython",
    "version": 3
   },
   "file_extension": ".py",
   "mimetype": "text/x-python",
   "name": "python",
   "nbconvert_exporter": "python",
   "pygments_lexer": "ipython3",
   "version": "3.10.8"
  }
 },
 "nbformat": 4,
 "nbformat_minor": 5
}
